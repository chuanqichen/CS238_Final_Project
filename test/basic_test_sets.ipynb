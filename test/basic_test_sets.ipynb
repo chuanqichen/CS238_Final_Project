{
 "cells": [
  {
   "cell_type": "code",
   "execution_count": 1,
   "id": "c4da0047",
   "metadata": {},
   "outputs": [],
   "source": [
    "using DecisionMakingProblems\n",
    "using MCTS\n",
    "using Statistics\n",
    "using Plots\n",
    "using LaTeXStrings\n",
    "using BenchmarkTools"
   ]
  },
  {
   "cell_type": "code",
   "execution_count": 60,
   "id": "1a289628",
   "metadata": {},
   "outputs": [],
   "source": [
    "using DecisionMakingProblems: TwentyFortyEight, isdone, get_max_rank, count_distinct_tiles, insert_tile_rand\n",
    "using DecisionMakingProblems: initial_board, score_board, rollout_to_end, reward, MDP, print_board, draw_tile\n",
    "using DecisionMakingProblems: init_2048_tables, move_down, move_left, move_right, move, count_empty, play_game\n",
    "using DecisionMakingProblems: DIRECTIONS"
   ]
  },
  {
   "cell_type": "code",
   "execution_count": 29,
   "id": "c230bafe",
   "metadata": {},
   "outputs": [],
   "source": [
    "twenty_forty_eight = TwentyFortyEight(γ=0.99)\n",
    "mdp2048 = MDP(twenty_forty_eight);"
   ]
  },
  {
   "cell_type": "code",
   "execution_count": 42,
   "id": "2627fd8e",
   "metadata": {},
   "outputs": [
    {
     "name": "stdout",
     "output_type": "stream",
     "text": [
      "     0     0     0     2\n",
      "     2     0     0     0\n",
      "     0     0     0     0\n",
      "     0     0     0     0\n",
      "\n"
     ]
    }
   ],
   "source": [
    "s = initial_board()\n",
    "print_board(s)"
   ]
  },
  {
   "cell_type": "code",
   "execution_count": 30,
   "id": "59197a2b",
   "metadata": {},
   "outputs": [
    {
     "data": {
      "text/plain": [
       "0x000000000000000e"
      ]
     },
     "execution_count": 30,
     "metadata": {},
     "output_type": "execute_result"
    }
   ],
   "source": [
    "count_empty(s)"
   ]
  },
  {
   "cell_type": "code",
   "execution_count": 7,
   "id": "7900961c",
   "metadata": {},
   "outputs": [
    {
     "data": {
      "text/plain": [
       "bitboard_to_array (generic function with 1 method)"
      ]
     },
     "execution_count": 7,
     "metadata": {},
     "output_type": "execute_result"
    }
   ],
   "source": [
    "function bitboard_to_array(board)::Array{Int8, 2}\n",
    "    ROWMASK=UInt16(2^16-1)\n",
    "    CELLMASK=UInt16(2^4-1)\n",
    "    outboard = Array{Int8, 2}(undef, 4, 4)\n",
    "\n",
    "    rowid = 1\n",
    "    # take one row at a time\n",
    "    for row_shift in 48:-16:0\n",
    "        row = (board >> row_shift) & ROWMASK\n",
    "\n",
    "        # populate the right cell for each column\n",
    "        for colid in 4:-1:1\n",
    "            outboard[rowid, colid] = row & CELLMASK\n",
    "            row >>= 4\n",
    "        end\n",
    "        rowid += 1\n",
    "    end\n",
    "    outboard\n",
    "end"
   ]
  },
  {
   "cell_type": "code",
   "execution_count": 40,
   "id": "97cbcd5f",
   "metadata": {},
   "outputs": [
    {
     "data": {
      "text/plain": [
       "14"
      ]
     },
     "execution_count": 40,
     "metadata": {},
     "output_type": "execute_result"
    }
   ],
   "source": [
    "# count total numbers of entpy tiles \n",
    "count_empty_tiles(s) = count(i->(i==0), s)\n",
    "count_empty_tiles(bitboard_to_array(s))"
   ]
  },
  {
   "cell_type": "code",
   "execution_count": 15,
   "id": "c81c0eb1",
   "metadata": {},
   "outputs": [
    {
     "data": {
      "text/plain": [
       "false"
      ]
     },
     "execution_count": 15,
     "metadata": {},
     "output_type": "execute_result"
    }
   ],
   "source": [
    "isdone(s)"
   ]
  },
  {
   "cell_type": "code",
   "execution_count": 50,
   "id": "4ae3e0f7",
   "metadata": {},
   "outputs": [
    {
     "name": "stdout",
     "output_type": "stream",
     "text": [
      "     0     0     0     2\n",
      "     2     2     0     0\n",
      "     0     0     0     0\n",
      "     0     4     0     0\n",
      "\n"
     ]
    }
   ],
   "source": [
    "s = insert_tile_rand(s, draw_tile())\n",
    "print_board(s)"
   ]
  },
  {
   "cell_type": "code",
   "execution_count": 52,
   "id": "88f6784a",
   "metadata": {},
   "outputs": [
    {
     "data": {
      "text/plain": [
       "4"
      ]
     },
     "execution_count": 52,
     "metadata": {},
     "output_type": "execute_result"
    }
   ],
   "source": [
    "2^get_max_rank(s)"
   ]
  },
  {
   "cell_type": "code",
   "execution_count": 53,
   "id": "ef872f0c",
   "metadata": {},
   "outputs": [
    {
     "data": {
      "text/plain": [
       "4.0f0"
      ]
     },
     "execution_count": 53,
     "metadata": {},
     "output_type": "execute_result"
    }
   ],
   "source": [
    "score_board(s)"
   ]
  },
  {
   "cell_type": "code",
   "execution_count": 58,
   "id": "8674393c",
   "metadata": {},
   "outputs": [
    {
     "name": "stdout",
     "output_type": "stream",
     "text": [
      "rollout_to_end_scores: 1042.72 ± 480.58243"
     ]
    }
   ],
   "source": [
    "rollout_to_end_scores = [rollout_to_end(s) for _ in 1:100]\n",
    "print(\"rollout_to_end_scores: $(mean(rollout_to_end_scores)) ± $(std(rollout_to_end_scores))\")"
   ]
  },
  {
   "cell_type": "code",
   "execution_count": 62,
   "id": "d0b15c05",
   "metadata": {},
   "outputs": [
    {
     "name": "stdout",
     "output_type": "stream",
     "text": [
      "Move #1, current score=0.0\n",
      "     4     0     0     0\n",
      "     0     0     0     0\n",
      "     0     0     0     0\n",
      "     0     0     2     0\n",
      "\n",
      "\ta = DOWN\n",
      "Move #2, current score=0.0\n",
      "     0     0     2     0\n",
      "     0     0     0     0\n",
      "     0     0     0     0\n",
      "     4     0     2     0\n",
      "\n",
      "\ta = LEFT\n",
      "Move #3, current score=0.0\n",
      "     2     0     0     0\n",
      "     0     0     0     0\n",
      "     0     0     0     0\n",
      "     4     2     0     2\n",
      "\n",
      "\ta = UP\n",
      "Move #4, current score=0.0\n",
      "     2     2     0     2\n",
      "     4     0     2     0\n",
      "     0     0     0     0\n",
      "     0     0     0     0\n",
      "\n",
      "\ta = DOWN\n",
      "Move #5, current score=0.0\n",
      "     0     0     0     0\n",
      "     0     0     2     0\n",
      "     2     0     0     0\n",
      "     4     2     2     2\n",
      "\n",
      "\ta = LEFT\n",
      "Move #6, current score=4.0\n",
      "     0     2     0     0\n",
      "     2     0     0     0\n",
      "     2     0     0     0\n",
      "     4     4     2     0\n",
      "\n",
      "\ta = LEFT\n",
      "Move #7, current score=12.0\n",
      "     2     0     0     0\n",
      "     2     0     0     0\n",
      "     2     0     2     0\n",
      "     8     2     0     0\n",
      "\n",
      "\ta = RIGHT\n",
      "Move #8, current score=16.0\n",
      "     0     0     2     2\n",
      "     0     0     0     2\n",
      "     0     0     0     4\n",
      "     0     0     8     2\n",
      "\n",
      "\ta = DOWN\n",
      "Move #9, current score=20.0\n",
      "     0     0     0     0\n",
      "     0     0     0     4\n",
      "     0     0     2     4\n",
      "     2     0     8     2\n",
      "\n",
      "\ta = DOWN\n",
      "Move #10, current score=28.0\n",
      "     0     0     0     0\n",
      "     2     0     0     0\n",
      "     0     0     2     8\n",
      "     2     0     8     2\n",
      "\n",
      "\ta = DOWN\n",
      "Move #11, current score=32.0\n",
      "     0     0     0     0\n",
      "     0     0     0     0\n",
      "     0     2     2     8\n",
      "     4     0     8     2\n",
      "\n",
      "\ta = RIGHT\n",
      "Move #12, current score=36.0\n",
      "     0     0     0     0\n",
      "     0     0     0     0\n",
      "     2     0     4     8\n",
      "     0     4     8     2\n",
      "\n",
      "\ta = RIGHT\n",
      "Move #13, current score=36.0\n",
      "     0     0     0     0\n",
      "     4     0     0     0\n",
      "     0     2     4     8\n",
      "     0     4     8     2\n",
      "\n",
      "\ta = RIGHT\n",
      "Move #14, current score=36.0\n",
      "     0     0     0     0\n",
      "     0     2     0     4\n",
      "     0     2     4     8\n",
      "     0     4     8     2\n",
      "\n",
      "\ta = LEFT\n",
      "Move #15, current score=36.0\n",
      "     2     0     0     0\n",
      "     2     4     0     0\n",
      "     2     4     8     0\n",
      "     4     8     2     0\n",
      "\n",
      "\ta = DOWN\n",
      "Move #16, current score=48.0\n",
      "     0     0     0     0\n",
      "     2     0     2     0\n",
      "     4     8     8     0\n",
      "     4     8     2     0\n",
      "\n",
      "\ta = RIGHT\n",
      "Move #17, current score=68.0\n",
      "     0     0     0     0\n",
      "     0     0     2     4\n",
      "     0     0     4    16\n",
      "     0     4     8     2\n",
      "\n",
      "\ta = LEFT\n",
      "Move #18, current score=68.0\n",
      "     0     0     0     0\n",
      "     2     4     0     0\n",
      "     4    16     0     0\n",
      "     4     8     2     4\n",
      "\n",
      "\ta = UP\n",
      "Move #19, current score=76.0\n",
      "     2     4     2     4\n",
      "     8    16     0     2\n",
      "     0     8     0     0\n",
      "     0     0     0     0\n",
      "\n",
      "\ta = RIGHT\n",
      "Move #20, current score=76.0\n",
      "     2     4     2     4\n",
      "     0     8    16     2\n",
      "     0     0     4     8\n",
      "     0     0     0     0\n",
      "\n",
      "\ta = UP\n",
      "Move #20, current score=76.0\n",
      "     2     4     2     4\n",
      "     0     8    16     2\n",
      "     0     0     4     8\n",
      "     0     0     0     0\n",
      "\n",
      "\ta = UP\n",
      "Move #20, current score=76.0\n",
      "     2     4     2     4\n",
      "     0     8    16     2\n",
      "     0     0     4     8\n",
      "     0     0     0     0"
     ]
    },
    {
     "name": "stderr",
     "output_type": "stream",
     "text": [
      "┌ Warning: Illegal move!\n",
      "└ @ DecisionMakingProblems C:\\Users\\chuachen\\.julia\\packages\\DecisionMakingProblems\\1SSR6\\src\\mdp\\2048.jl:453\n",
      "┌ Warning: Illegal move!\n",
      "└ @ DecisionMakingProblems C:\\Users\\chuachen\\.julia\\packages\\DecisionMakingProblems\\1SSR6\\src\\mdp\\2048.jl:453\n"
     ]
    },
    {
     "name": "stdout",
     "output_type": "stream",
     "text": [
      "\n",
      "\n",
      "\ta = LEFT\n",
      "Move #21, current score=76.0\n",
      "     2     4     2     4\n",
      "     8    16     2     0\n",
      "     4     8     0     2\n",
      "     0     0     0     0\n",
      "\n",
      "\ta = RIGHT\n",
      "Move #22, current score=76.0\n",
      "     2     4     2     4\n",
      "     2     8    16     2\n",
      "     0     4     8     2\n",
      "     0     0     0     0\n",
      "\n",
      "\ta = DOWN\n",
      "Move #23, current score=84.0\n",
      "     2     0     0     0\n",
      "     0     4     2     0\n",
      "     0     8    16     4\n",
      "     4     4     8     4\n",
      "\n",
      "\ta = RIGHT\n",
      "Move #24, current score=92.0\n",
      "     0     0     0     2\n",
      "     2     0     4     2\n",
      "     0     8    16     4\n",
      "     0     8     8     4\n",
      "\n",
      "\ta = LEFT\n",
      "Move #25, current score=108.0\n",
      "     2     0     0     0\n",
      "     2     4     2     0\n",
      "     8    16     4     0\n",
      "    16     4     0     2\n",
      "\n",
      "\ta = UP\n",
      "Move #26, current score=112.0\n",
      "     4     4     2     2\n",
      "     8    16     4     0\n",
      "    16     4     0     0\n",
      "     0     0     0     4\n",
      "\n",
      "\ta = LEFT\n",
      "Move #27, current score=124.0\n",
      "     8     4     0     0\n",
      "     8    16     4     0\n",
      "    16     4     0     4\n",
      "     4     0     0     0\n",
      "\n",
      "\ta = DOWN\n",
      "Move #28, current score=140.0\n",
      "     0     0     0     0\n",
      "    16     4     0     2\n",
      "    16    16     0     0\n",
      "     4     4     4     4\n",
      "\n",
      "\ta = LEFT\n",
      "Move #29, current score=188.0\n",
      "     0     0     0     0\n",
      "    16     4     2     0\n",
      "    32     0     0     4\n",
      "     8     8     0     0\n",
      "\n",
      "\ta = LEFT\n",
      "Move #30, current score=204.0\n",
      "     0     0     2     0\n",
      "    16     4     2     0\n",
      "    32     4     0     0\n",
      "    16     0     0     0\n",
      "\n",
      "\ta = RIGHT\n",
      "Move #31, current score=204.0\n",
      "     0     4     0     2\n",
      "     0    16     4     2\n",
      "     0     0    32     4\n",
      "     0     0     0    16\n",
      "\n",
      "\ta = LEFT\n",
      "Move #32, current score=204.0\n",
      "     4     2     0     0\n",
      "    16     4     2     0\n",
      "    32     4     0     2\n",
      "    16     0     0     0\n",
      "\n",
      "\ta = DOWN\n",
      "Move #33, current score=212.0\n",
      "     4     0     0     0\n",
      "    16     4     0     0\n",
      "    32     2     0     0\n",
      "    16     8     2     2\n",
      "\n",
      "\ta = DOWN\n",
      "Move #33, current score=212.0\n",
      "     4     0     0     0\n",
      "    16     4     0     0\n",
      "    32     2     0     0\n",
      "    16"
     ]
    },
    {
     "name": "stderr",
     "output_type": "stream",
     "text": [
      "┌ Warning: Illegal move!\n",
      "└ @ DecisionMakingProblems C:\\Users\\chuachen\\.julia\\packages\\DecisionMakingProblems\\1SSR6\\src\\mdp\\2048.jl:453\n"
     ]
    },
    {
     "name": "stdout",
     "output_type": "stream",
     "text": [
      "     8     2     2\n",
      "\n",
      "\ta = LEFT\n",
      "Move #34, current score=216.0\n",
      "     4     0     0     0\n",
      "    16     4     0     0\n",
      "    32     2     0     0\n",
      "    16     8     4     2\n",
      "\n",
      "\ta = UP\n",
      "Move #35, current score=216.0\n",
      "     4     4     4     2\n",
      "    16     2     2     0\n",
      "    32     8     0     0\n",
      "    16     0     0     0\n",
      "\n",
      "\ta = RIGHT\n",
      "Move #36, current score=228.0\n",
      "     0     4     8     2\n",
      "     0     0    16     4\n",
      "     0     0    32     8\n",
      "     2     0     0    16\n",
      "\n",
      "\ta = DOWN\n",
      "Move #37, current score=228.0\n",
      "     4     0     0     2\n",
      "     0     0     8     4\n",
      "     0     0    16     8\n",
      "     2     4    32    16\n",
      "\n",
      "\ta = DOWN\n",
      "Move #38, current score=228.0\n",
      "     0     0     0     2\n",
      "     0     2     8     4\n",
      "     4     0    16     8\n",
      "     2     4    32    16\n",
      "\n",
      "\ta = LEFT\n",
      "Move #39, current score=228.0\n",
      "     2     2     0     0\n",
      "     2     8     4     0\n",
      "     4    16     8     0\n",
      "     2     4    32    16\n",
      "\n",
      "\ta = DOWN\n",
      "Move #40, current score=232.0\n",
      "     0     2     2     0\n",
      "     4     8     4     0\n",
      "     4    16     8     0\n",
      "     2     4    32    16\n",
      "\n",
      "\ta = UP\n",
      "Move #41, current score=240.0\n",
      "     8     2     2    16\n",
      "     2     8     4     2\n",
      "     0    16     8     0\n",
      "     0     4    32     0\n",
      "\n",
      "\ta = RIGHT\n",
      "Move #42, current score=244.0\n",
      "     2     8     4    16\n",
      "     2     8     4     2\n",
      "     0     0    16     8\n",
      "     0     0     4    32\n",
      "\n",
      "\ta = UP\n",
      "Move #43, current score=272.0\n",
      "     4    16     8    16\n",
      "     0     0    16     2\n",
      "     0     4     4     8\n",
      "     0     0     0    32\n",
      "\n",
      "\ta = LEFT\n",
      "Move #44, current score=280.0\n",
      "     4    16     8    16\n",
      "    16     2     0     0\n",
      "     8     8     0     0\n",
      "    32     2     0     0\n",
      "\n",
      "\ta = LEFT\n",
      "Move #45, current score=296.0\n",
      "     4    16     8    16\n",
      "    16     2     0     0\n",
      "    16     0     0     0\n",
      "    32     2     0     2\n",
      "\n",
      "\ta = RIGHT\n",
      "Move #46, current score=300.0\n",
      "     4    16     8    16\n",
      "     0     4    16     2\n",
      "     0     0     0    16\n",
      "     0     0    32     4\n",
      "\n",
      "\ta = DOWN\n",
      "Move #47, current score=300.0\n",
      "     0     0     0    16\n",
      "     2     0     8     2\n",
      "     0    16    16    16\n",
      "     4     4    32     4\n",
      "\n",
      "\ta = LEFT\n",
      "Move #48, current score=340.0\n",
      "    16     0     4     0\n",
      "     2     8     2     0\n",
      "    32    16     0     0\n",
      "     8    32     4     0\n",
      "\n",
      "\ta = RIGHT\n",
      "Move #49, current score=340.0\n",
      "     2     0    16     4\n",
      "     0     2     8     2\n",
      "     0     0    32    16\n",
      "     0     8    32     4\n",
      "\n",
      "\ta = RIGHT\n",
      "Move #50, current score=340.0\n",
      "     0     2    16     4\n",
      "     0     2     8     2\n",
      "     0     2    32    16\n",
      "     0     8    32     4\n",
      "\n",
      "\ta = UP\n",
      "Move #51, current score=408.0\n",
      "     0     4    16     4\n",
      "     0     2     8     2\n",
      "     0     8    64    16\n",
      "     0     0     2     4\n",
      "\n",
      "\ta = UP\n",
      "Move #51, current score=408.0\n",
      "     0     4    16     4\n",
      "     0     2     8     2\n",
      "     0     8    64    16"
     ]
    },
    {
     "name": "stderr",
     "output_type": "stream",
     "text": [
      "┌ Warning: Illegal move!\n",
      "└ @ DecisionMakingProblems C:\\Users\\chuachen\\.julia\\packages\\DecisionMakingProblems\\1SSR6\\src\\mdp\\2048.jl:453\n"
     ]
    },
    {
     "name": "stdout",
     "output_type": "stream",
     "text": [
      "\n",
      "     0     0     2     4\n",
      "\n",
      "\ta = RIGHT\n",
      "Move #51, current score=408.0\n",
      "     0     4    16     4\n",
      "     0     2     8     2\n",
      "     0     8    64    16\n",
      "     0     0     2     4\n"
     ]
    },
    {
     "name": "stderr",
     "output_type": "stream",
     "text": [
      "┌ Warning: Illegal move!\n",
      "└ @ DecisionMakingProblems C:\\Users\\chuachen\\.julia\\packages\\DecisionMakingProblems\\1SSR6\\src\\mdp\\2048.jl:453\n"
     ]
    },
    {
     "name": "stdout",
     "output_type": "stream",
     "text": [
      "\n",
      "\ta = RIGHT\n",
      "Move #51, current score=408.0\n",
      "     0     4    16     4\n",
      "     0     2     8     2\n",
      "     0     8    64    16\n",
      "     0     0     2     4\n",
      "\n",
      "\ta = RIGHT\n",
      "Move #51, current score=408.0\n",
      "     0     4    16     4"
     ]
    },
    {
     "name": "stderr",
     "output_type": "stream",
     "text": [
      "┌ Warning: Illegal move!\n",
      "└ @ DecisionMakingProblems C:\\Users\\chuachen\\.julia\\packages\\DecisionMakingProblems\\1SSR6\\src\\mdp\\2048.jl:453\n",
      "┌ Warning: Illegal move!\n",
      "└ @ DecisionMakingProblems C:\\Users\\chuachen\\.julia\\packages\\DecisionMakingProblems\\1SSR6\\src\\mdp\\2048.jl:453\n"
     ]
    },
    {
     "name": "stdout",
     "output_type": "stream",
     "text": [
      "\n",
      "     0     2     8     2\n",
      "     0     8    64    16\n",
      "     0     0     2     4\n",
      "\n",
      "\ta = RIGHT\n",
      "Move #51, current score=408.0\n",
      "     0     4    16     4\n",
      "     0     2     8     2\n",
      "     0     8    64    16\n",
      "     0     0     2     4\n",
      "\n",
      "\ta = LEFT\n",
      "Move #52, current score=408.0\n",
      "     4    16     4     0\n",
      "     2     8     2     0\n",
      "     8    64    16     4\n",
      "     2     4     0     0\n"
     ]
    },
    {
     "name": "stderr",
     "output_type": "stream",
     "text": [
      "┌ Warning: Illegal move!\n",
      "└ @ DecisionMakingProblems C:\\Users\\chuachen\\.julia\\packages\\DecisionMakingProblems\\1SSR6\\src\\mdp\\2048.jl:453\n"
     ]
    },
    {
     "name": "stdout",
     "output_type": "stream",
     "text": [
      "\n",
      "\ta = UP\n",
      "Move #53, current score=408.0\n",
      "     4    16     4     4\n",
      "     2     8     2     0\n",
      "     8    64    16     0\n",
      "     2     4     0     2\n",
      "\n",
      "\ta = LEFT\n",
      "Move #54, current score=416.0\n",
      "     4    16     8     0\n",
      "     2     8     2     0\n",
      "     8    64    16     0\n",
      "     2     4     2     2\n",
      "\n",
      "\ta = UP\n",
      "Move #55, current score=416.0\n",
      "     4    16     8     2\n",
      "     2     8     2     0\n",
      "     8    64    16     0\n",
      "     2     4     2     2\n",
      "\n",
      "\ta = RIGHT\n",
      "Move #56, current score=420.0\n",
      "     4    16     8     2\n",
      "     2     2     8     2\n",
      "     0     8    64    16\n",
      "     0     2     4     4\n",
      "\n",
      "\ta = LEFT\n",
      "Move #57, current score=432.0\n",
      "     4    16     8     2\n",
      "     4     8     2     2\n",
      "     8    64    16     0\n",
      "     2     8     0     0\n",
      "\n",
      "\ta = RIGHT\n",
      "Move #58, current score=436.0\n",
      "     4    16     8     2\n",
      "     0     4     8     4\n",
      "     0     8    64    16\n",
      "     2     0     2     8\n",
      "\n",
      "\ta = LEFT\n",
      "Move #59, current score=440.0\n",
      "     4    16     8     2\n",
      "     4     8     4     0\n",
      "     8    64    16     2\n",
      "     4     8     0     0\n",
      "\n",
      "\ta = UP\n",
      "Move #60, current score=452.0\n",
      "     8    16     8     4\n",
      "     8     8     4     0\n",
      "     4    64    16     2\n",
      "     0     8     0     0\n",
      "\n",
      "\ta = LEFT\n",
      "Move #61, current score=468.0\n",
      "     8    16     8     4\n",
      "    16     4     0     0\n",
      "     4    64    16     2\n",
      "     8     0     0     2\n",
      "\n",
      "\ta = LEFT\n",
      "Move #62, current score=468.0\n",
      "     8    16     8     4\n",
      "    16     4     2     0\n",
      "     4    64    16     2\n",
      "     8     2     0     0\n",
      "\n",
      "\ta = DOWN\n",
      "Move #63, current score=468.0\n",
      "     8    16     2     0\n",
      "    16     4     8     0\n",
      "     4    64     2     4\n",
      "     8     2    16     2\n",
      "\n",
      "\ta = UP\n",
      "Move #64, current score=468.0\n",
      "     8    16     2     4\n",
      "    16     4     8     2\n",
      "     4    64     2     4\n",
      "     8     2    16     0\n",
      "\n",
      "\ta = LEFT\n",
      "Move #64, current score=468.0\n",
      "     8    16     2     4\n",
      "    16     4     8     2\n",
      "     4    64     2     4\n",
      "     8     2    16     0\n"
     ]
    },
    {
     "name": "stderr",
     "output_type": "stream",
     "text": [
      "┌ Warning: Illegal move!\n",
      "└ @ DecisionMakingProblems C:\\Users\\chuachen\\.julia\\packages\\DecisionMakingProblems\\1SSR6\\src\\mdp\\2048.jl:453\n"
     ]
    },
    {
     "name": "stdout",
     "output_type": "stream",
     "text": [
      "\n",
      "\ta = DOWN\n",
      "Move #65, current score=468.0\n",
      "     8    16     2     2\n",
      "    16     4     8     4\n",
      "     4    64     2     2\n",
      "     8     2    16     4\n",
      "\n",
      "\ta = RIGHT\n",
      "Move #66, current score=476.0\n",
      "     0     8    16     4\n",
      "    16     4     8     4\n",
      "     4     4    64     4\n",
      "     8     2    16     4\n",
      "\n",
      "\ta = RIGHT\n",
      "Move #67, current score=484.0\n",
      "     0     8    16     4\n",
      "    16     4     8     4\n",
      "     4     8    64     4\n",
      "     8     2    16     4\n",
      "\n",
      "\ta = UP\n",
      "Move #68, current score=500.0\n",
      "    16     8    16     8\n",
      "     4     4     8     8\n",
      "     8     8    64     4\n",
      "     0     2    16     0\n",
      "\n",
      "\ta = UP\n",
      "Move #69, current score=516.0\n",
      "    16     8    16    16\n",
      "     4     4     8     4\n",
      "     8     8    64     0\n",
      "     2     2    16     0\n",
      "\n",
      "\ta = DOWN\n",
      "Move #70, current score=516.0\n",
      "    16     8    16     0\n",
      "     4     4     8     2\n",
      "     8     8    64    16\n",
      "     2     2    16     4\n",
      "\n",
      "\ta = DOWN\n",
      "Move #70, current score=516.0\n",
      "    16     8    16     0"
     ]
    },
    {
     "name": "stderr",
     "output_type": "stream",
     "text": [
      "┌ Warning: Illegal move!\n",
      "└ @ DecisionMakingProblems C:\\Users\\chuachen\\.julia\\packages\\DecisionMakingProblems\\1SSR6\\src\\mdp\\2048.jl:453\n"
     ]
    },
    {
     "name": "stdout",
     "output_type": "stream",
     "text": [
      "\n",
      "     4     4     8     2\n",
      "     8     8    64    16\n",
      "     2     2    16     4\n",
      "\n",
      "\ta = RIGHT\n",
      "Move #71, current score=544.0\n",
      "     0    16     8    16\n",
      "     0     8     8     2\n",
      "     2    16    64    16\n",
      "     0     4    16     4\n",
      "\n",
      "\ta = LEFT\n",
      "Move #72, current score=560.0\n",
      "    16     8    16     0\n",
      "    16     2     0     0\n",
      "     2    16    64    16\n",
      "     4    16     4     4\n",
      "\n",
      "\ta = RIGHT\n",
      "Move #73, current score=568.0\n",
      "     0    16     8    16\n",
      "     2     0    16     2\n",
      "     2    16    64    16\n",
      "     0     4    16     8\n",
      "\n",
      "\ta = UP\n",
      "Move #74, current score=604.0\n",
      "     4    32     8    16\n",
      "     0     4    16     2\n",
      "     0     0    64    16\n",
      "     0     2    16     8\n",
      "\n",
      "\ta = DOWN\n",
      "Move #75, current score=604.0\n",
      "     0     2     8    16\n",
      "     0    32    16     2\n",
      "     0     4    64    16\n",
      "     4     2    16     8\n",
      "\n",
      "\ta = UP\n",
      "Move #76, current score=604.0\n",
      "     4     2     8    16\n",
      "     0    32    16     2\n",
      "     0     4    64    16\n",
      "     2     2    16     8\n",
      "\n",
      "\ta = LEFT\n",
      "Move #77, current score=608.0\n",
      "     4     2     8    16\n",
      "    32    16     2     0\n",
      "     4    64    16     0\n",
      "     4    16     8     4\n",
      "\n",
      "\ta = UP\n",
      "Move #78, current score=616.0\n",
      "     4     2     8    16\n",
      "    32    16     2     4\n",
      "     8    64    16     0\n",
      "     2    16     8     0\n",
      "\n",
      "\ta = UP\n",
      "Move #78, current score=616.0"
     ]
    },
    {
     "name": "stderr",
     "output_type": "stream",
     "text": [
      "┌ Warning: Illegal move!\n",
      "└ @ DecisionMakingProblems C:\\Users\\chuachen\\.julia\\packages\\DecisionMakingProblems\\1SSR6\\src\\mdp\\2048.jl:453\n"
     ]
    },
    {
     "name": "stdout",
     "output_type": "stream",
     "text": [
      "\n",
      "     4     2     8    16\n",
      "    32    16     2     4\n",
      "     8    64    16     0\n",
      "     2    16     8     0\n",
      "\n",
      "\ta = RIGHT\n",
      "Move #79, current score=616.0\n",
      "     4     2     8    16\n",
      "    32    16     2     4\n",
      "     2     8    64    16\n",
      "     0     2    16     8\n",
      "\n",
      "\ta = RIGHT\n"
     ]
    },
    {
     "name": "stderr",
     "output_type": "stream",
     "text": [
      "┌ Warning: Illegal move!\n",
      "└ @ DecisionMakingProblems C:\\Users\\chuachen\\.julia\\packages\\DecisionMakingProblems\\1SSR6\\src\\mdp\\2048.jl:453\n"
     ]
    },
    {
     "name": "stdout",
     "output_type": "stream",
     "text": [
      "Move #79, current score=616.0\n",
      "     4     2     8    16\n",
      "    32    16     2     4\n",
      "     2     8    64    16\n",
      "     0     2    16     8\n",
      "\n",
      "\ta = UP\n",
      "Move #79, current score=616.0\n",
      "     4     2     8"
     ]
    },
    {
     "name": "stderr",
     "output_type": "stream",
     "text": [
      "┌ Warning: Illegal move!\n",
      "└ @ DecisionMakingProblems C:\\Users\\chuachen\\.julia\\packages\\DecisionMakingProblems\\1SSR6\\src\\mdp\\2048.jl:453\n"
     ]
    },
    {
     "name": "stdout",
     "output_type": "stream",
     "text": [
      "    16\n",
      "    32    16     2     4\n",
      "     2     8    64    16\n",
      "     0     2    16     8\n",
      "\n",
      "\ta = UP\n",
      "Move #79, current score=616.0\n",
      "     4     2     8    16\n",
      "    32    16     2     4\n",
      "     2     8    64    16\n",
      "     0     2    16     8\n"
     ]
    },
    {
     "name": "stderr",
     "output_type": "stream",
     "text": [
      "┌ Warning: Illegal move!\n",
      "└ @ DecisionMakingProblems C:\\Users\\chuachen\\.julia\\packages\\DecisionMakingProblems\\1SSR6\\src\\mdp\\2048.jl:453\n"
     ]
    },
    {
     "name": "stdout",
     "output_type": "stream",
     "text": [
      "\n",
      "\ta = LEFT\n",
      "Move #80, current score=616.0\n",
      "     4     2     8    16\n",
      "    32    16     2     4\n",
      "     2     8    64    16\n",
      "     2    16     8     2\n",
      "\n",
      "\ta = LEFT\n",
      "Move #80, current score=616.0\n",
      "     4     2     8    16\n",
      "    32    16     2     4\n",
      "     2     8    64    16\n",
      "     2    16     8     2\n",
      "\n",
      "\ta = LEFT\n"
     ]
    },
    {
     "name": "stderr",
     "output_type": "stream",
     "text": [
      "┌ Warning: Illegal move!\n",
      "└ @ DecisionMakingProblems C:\\Users\\chuachen\\.julia\\packages\\DecisionMakingProblems\\1SSR6\\src\\mdp\\2048.jl:453\n"
     ]
    },
    {
     "name": "stdout",
     "output_type": "stream",
     "text": [
      "Move #80, current score=616.0\n",
      "     4     2     8    16\n",
      "    32    16     2     4\n",
      "     2     8    64    16\n",
      "     2    16     8     2\n",
      "\n",
      "\ta = DOWN\n",
      "Move #81, current score=620.0\n",
      "     4     2     8    16\n",
      "     4    16     2     4\n",
      "    32     8    64    16\n",
      "     4    16     8     2"
     ]
    },
    {
     "name": "stderr",
     "output_type": "stream",
     "text": [
      "┌ Warning: Illegal move!\n",
      "└ @ DecisionMakingProblems C:\\Users\\chuachen\\.julia\\packages\\DecisionMakingProblems\\1SSR6\\src\\mdp\\2048.jl:453\n"
     ]
    },
    {
     "name": "stdout",
     "output_type": "stream",
     "text": [
      "\n",
      "\n",
      "\ta = UP\n",
      "     8     2     8    16\n",
      "    32    16     2     4\n",
      "     4     8    64    16\n",
      "     2    16     8     2\n",
      "\n",
      "\n",
      "Game over. Your score is 628. The highest rank you achieved was 6.\n"
     ]
    }
   ],
   "source": [
    "π_rand(s) = rand(DIRECTIONS)\n",
    "play_game(π_rand)"
   ]
  },
  {
   "cell_type": "code",
   "execution_count": null,
   "id": "64f54331",
   "metadata": {},
   "outputs": [],
   "source": []
  }
 ],
 "metadata": {
  "kernelspec": {
   "display_name": "Julia 1.6.4",
   "language": "julia",
   "name": "julia-1.6"
  },
  "language_info": {
   "file_extension": ".jl",
   "mimetype": "application/julia",
   "name": "julia",
   "version": "1.6.4"
  }
 },
 "nbformat": 4,
 "nbformat_minor": 5
}
